{
  "metadata": {
    "language_info": {
      "codemirror_mode": "sql",
      "file_extension": "",
      "mimetype": "",
      "name": "sql",
      "version": "3.32.3"
    },
    "kernelspec": {
      "name": "SQLite",
      "display_name": "SQLite",
      "language": "sql"
    }
  },
  "nbformat_minor": 4,
  "nbformat": 4,
  "cells": [
    {
      "cell_type": "code",
      "source": "/* 1.Count the number of Salesperson whose name begins with ‘a’/’A’: */\n\nSELECT COUNT(*) AS num_salespeople\nFROM SalesPeople\nWHERE Sname LIKE 'A%' OR Sname LIKE 'a%';\n\n/* 2.Display all the Salesperson whose all orders worth is more than Rs. 2000: */\n\nSELECT S.Sname\nFROM SalesPeople S\nINNER JOIN Orders O ON S.Snum = O.Snum\nGROUP BY S.Sname\nHAVING SUM(O.Amt) > 2000;\n\n/*3.Count the number of Salesperson belonging to Newyork: */\n\nSELECT COUNT(*) AS num_salespeople\nFROM SalesPeople\nWHERE City = 'Newyork';\n\n/* 4.Display the number of Salespeople belonging to London and belonging to Paris: */\n\nSELECT City, COUNT(*) AS num_salespeople\nFROM SalesPeople\nWHERE City IN ('London', 'Paris')\nGROUP BY City;\n\n/* 5.Display the number of orders taken by each Salesperson and their date of orders: */\n\nSELECT S.Sname, O.Odate, COUNT(*) AS num_orders\nFROM SalesPeople S\nINNER JOIN Orders O ON S.Snum = O.Snum\nGROUP BY S.Sname, O.Odate;\n",
      "metadata": {},
      "execution_count": null,
      "outputs": []
    }
  ]
}